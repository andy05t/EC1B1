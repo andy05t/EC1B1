{
 "cells": [
  {
   "cell_type": "markdown",
   "id": "eebe02cb",
   "metadata": {},
   "source": [
    "# Lewis' visualisation section\n",
    "* should create templates and be ready to input downloaded and cleaned data"
   ]
  },
  {
   "cell_type": "code",
   "execution_count": null,
   "id": "a1bdf829",
   "metadata": {},
   "outputs": [],
   "source": [
    "import matplotlib.pyplot as plt\n",
    "import matplotlib.ticker as mtick\n",
    "import pandas as pd\n",
    "import seaborn as sns\n",
    "import numpy as np\n",
    "import plotly.graph_objects as go\n",
    "\n",
    "import ipywidgets as widgets \n",
    "from IPython.display import display\n",
    "\n",
    "sns.set_style('darkgrid')"
   ]
  },
  {
   "cell_type": "code",
   "execution_count": null,
   "id": "d32029f7",
   "metadata": {},
   "outputs": [],
   "source": [
    "def scatter_plot_template(x, y, xlabel='',  ylabel='', title=''):\n",
    "    \n",
    "    plt.scatter(x, y, color='red')\n",
    "    plt.xlabel(xlabel, fontsize=10, fontweight='bold', color='black')\n",
    "    plt.ylabel(ylabel, fontsize=10, fontweight='bold', color='black')\n",
    "    plt.title(title, fontsize=15, fontweight='bold', color='black')\n",
    "    plt.gca().set_facecolor('lightgray')\n",
    "    plt.grid(True, linestyle='--', linewidth=0.5, color='indianred', alpha=0.5)\n",
    "    sns.regplot(x=x, y=y, scatter=False, color='orange', line_kws={'linewidth':2})\n",
    "    plt.show()"
   ]
  },
  {
   "cell_type": "code",
   "execution_count": null,
   "id": "9dd51c04",
   "metadata": {},
   "outputs": [],
   "source": [
    "def histogram_plot_template(data, xlabel='', ylabel='', title=''):\n",
    "    \n",
    "    \n",
    "    sns.histplot(data, bins=5, color='darkolivegreen')\n",
    "    plt.xlabel(xlabel, fontsize=10, fontweight='bold', color='black')\n",
    "    plt.ylabel(ylabel, fontsize=10, fontweight='bold', color='black')\n",
    "    plt.title(title, fontsize=15, fontweight='bold', color='black')\n",
    "    plt.gca().set_facecolor('lightgray')\n",
    "    plt.grid(True, linestyle='--', linewidth=0.5, color='indianred', alpha=0.5)\n",
    "    sns.kdeplot(data, color='black', linestyle='--')\n",
    "    plt.show()"
   ]
  },
  {
   "cell_type": "code",
   "execution_count": null,
   "id": "0e7b7e87",
   "metadata": {},
   "outputs": [],
   "source": [
    "def violin_plot_template(data, x, y, xlabel='', ylabel='', title='', height='', aspect=''):\n",
    "    \n",
    "    sns.set_palette(\"pastel\")\n",
    "    sns.catplot(data=data, x=x, y=y, kind='violin', split=True, height=height, aspect=aspect)\n",
    "    sns.swarmplot(data=data, x=x, y=y, color='k', alpha=0.7)\n",
    "    plt.xlabel(xlabel, fontsize=12, fontweight='bold', color='black')\n",
    "    plt.ylabel(ylabel, fontsize=12, fontweight='bold', color='black')\n",
    "    plt.title(title, fontsize=15, fontweight='bold', color='black')\n",
    "    plt.show()"
   ]
  },
  {
   "cell_type": "code",
   "execution_count": null,
   "id": "5cff1190",
   "metadata": {},
   "outputs": [],
   "source": [
    "def lineplot_template(data, x, y, xlabel='', ylabel='', title='', height='', aspect='', palette=None, annotations=None):\n",
    "    \n",
    "    sns.relplot(data=data, x=x, y=y, kind='line', height=height, aspect=aspect, palette=palette, markers=True, dashes=False, color='navy')\n",
    "    plt.xlabel(xlabel, fontsize=15, fontweight='bold', color='black')\n",
    "    plt.ylabel(ylabel, fontsize=15, fontweight='bold', color='black')\n",
    "    plt.title(title, fontsize=20, fontweight='bold', color='black')\n",
    "    plt.grid(True, linestyle='--', linewidth=0.5, color='indianred', alpha=0.5)\n",
    "    plt.gca().set_facecolor('lightgray')\n",
    "    \n",
    "    if annotations:\n",
    "        for annotation in annotations:\n",
    "            plt.text(annotation['x'], annotation['y'], annotation['text'], fontsize=10, color='black', ha='center', va='bottom')\n",
    "    \n",
    "    plt.show()\n",
    "    \n",
    "    fig = go.Figure()\n",
    "    for group, group_data in data.groupby(x):\n",
    "        fig.add_trace(go.Scatter(x=group_data[x], y=group_data[y], mode='lines+markers', name=group))\n",
    "    fig.update_layout(title=title, xaxis_title=xlabel, yaxis_title=ylabel, hovermode='closest')\n",
    "    \n",
    "    if annotations:\n",
    "        for annotation in annotations:\n",
    "            fig.add_annotation(x=annotation['x'], y=annotation['y'], text=annotation['text'], showarrow=True, font=dict(size=10, color='black'), arrowhead=1, ax=0, ay=-40)\n",
    "        \n",
    "    fig.show()"
   ]
  },
  {
   "cell_type": "code",
   "execution_count": null,
   "id": "2c62117f",
   "metadata": {},
   "outputs": [],
   "source": [
    "def subplot1_template(start_time='', end_time='', ylimits=None, ylabel='', super_title='', title='', x_annotation='', y_annotation='', data=None):\n",
    "    \n",
    "    fig, ax = plt.subplots()\n",
    "    data['start_time':'end_time'].plot(ax=ax)\n",
    "    ax.set_ylim(ylimits)\n",
    "    ax.set_ylabel(ylabel)\n",
    "    \n",
    "    plt.suptitle('super_title', y=1.1, fontsize=15, color='black', fontweight='bold')\n",
    "    plt.title('title', fontsize=12, color='darkgrey', fontweight='bold')\n",
    "    plt.annotate('Bretton Woods Collapse/n(August 1971)', fontsize =10, xy=(x_annotation, y_annotation), xytext=(x_annotation, y_annotation + 20), arrowprops=dict(facecolor='black', arrowstyle='->', shrink=0.001), color='red')\n",
    "    ax.grid(True, linestyle='--', linewidth=0.5, color='gray')\n",
    "    plt.set_facecolor('lightgray')\n",
    "    plt.show()"
   ]
  },
  {
   "cell_type": "code",
   "execution_count": null,
   "id": "a8964277",
   "metadata": {},
   "outputs": [],
   "source": [
    "def lineplot_template(data, x, y, xlabel='', ylabel='', title='', height='', aspect='', palette=None, annotations=None):\n",
    "    \n",
    "    sns.relplot(data=data, x=x, y=y, kind='line', height=height, aspect=aspect, palette=palette, markers=True, dashes=False, color='navy')\n",
    "    plt.xlabel(xlabel, fontsize=15, fontweight='bold', color='black')\n",
    "    plt.ylabel(ylabel, fontsize=15, fontweight='bold', color='black')\n",
    "    plt.title(title, fontsize=20, fontweight='bold', color='black')\n",
    "    plt.grid(True, linestyle='--', linewidth=0.5, color='indianred', alpha=0.5)\n",
    "    plt.gca().set_facecolor('lightgray')\n",
    "    \n",
    "    if annotations:\n",
    "        for annotation in annotations:\n",
    "            plt.text(annotation['x'], annotation['y'], annotation['text'], fontsize=15, fontweight='bold', color='black', ha='center', va='bottom')\n",
    "    \n",
    "    plt.show()\n",
    "    \n",
    "    fig = go.Figure()\n",
    "    for group, group_data in data.groupby(x):\n",
    "        fig.add_trace(go.Scatter(x=group_data[x], y=group_data[y], mode='lines+markers', name=group))\n",
    "    fig.update_layout(title=title, xaxis_title=xlabel, yaxis_title=ylabel, hovermode='closest')\n",
    "    \n",
    "    if annotations:\n",
    "        for annotation in annotations:\n",
    "            fig.add_annotation(x=annotation['x'], y=annotation['y'], text=annotation['text'], showarrow=True, font=dict(size=10, color='black'), arrowhead=1, ax=0, ay=-40)\n",
    "        \n",
    "    fig.show()\n",
    "\n",
    "\n",
    "\n",
    "def lineplot_template_interactive(data, x, y, xlabel='', ylabel='', title='', annotations=None):\n",
    "    fig = go.Figure()\n",
    "    fig.add_trace(go.Scatter(x=data[x], y=data[y], mode='lines', name=y))\n",
    "    \n",
    "    if annotations:\n",
    "        for annotation in annotations:\n",
    "            fig.add_annotation(x=annotation['x'], y=annotation['y'], text=annotation['text'],\n",
    "                               showarrow=True, arrowhead=1, ax=0, ay=-40)\n",
    "    \n",
    "    fig.update_layout(title=title, xaxis_title=xlabel, yaxis_title=ylabel)\n",
    "    fig.show()\n"
   ]
  },
  {
   "cell_type": "code",
   "execution_count": null,
   "id": "5f74ce08",
   "metadata": {},
   "outputs": [],
   "source": [
    "def histogram_interactive_template(data, column, title='', xlabel='', ylabel=''):\n",
    "    \n",
    "    fig = go.Figure()\n",
    "    fig.add_trace(go.Histogram(x=data[column], histnorm='probability'))\n",
    "\n",
    "    fig.update_layout(title=title, xaxis_title=xlabel, yaxis_title=ylabel)\n",
    "    fig.show()"
   ]
  }
 ],
 "metadata": {
  "kernelspec": {
   "display_name": "Python 3 (ipykernel)",
   "language": "python",
   "name": "python3"
  },
  "language_info": {
   "codemirror_mode": {
    "name": "ipython",
    "version": 3
   },
   "file_extension": ".py",
   "mimetype": "text/x-python",
   "name": "python",
   "nbconvert_exporter": "python",
   "pygments_lexer": "ipython3",
   "version": "3.11.5"
  }
 },
 "nbformat": 4,
 "nbformat_minor": 5
}
